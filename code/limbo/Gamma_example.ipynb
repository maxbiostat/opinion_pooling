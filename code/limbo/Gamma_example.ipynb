{
 "cells": [
  {
   "cell_type": "markdown",
   "metadata": {},
   "source": [
    "Here we'll look into an example where the experts provide Gamma distributions on the rate of a Poisson distribution."
   ]
  },
  {
   "cell_type": "markdown",
   "metadata": {},
   "source": [
    "### Setup"
   ]
  },
  {
   "cell_type": "code",
   "execution_count": 2,
   "metadata": {
    "collapsed": true
   },
   "outputs": [],
   "source": [
    "source(\"maxent_aux.R\")\n",
    "## Five experts give their parameters for gamma distributions\n",
    "## n = 5 observations from a Poisson (lamb) are made\n",
    "set.seed(8340279)\n",
    " \n",
    "a0 <- 2 ; b0 <- 1.1\n",
    "a1 <- 5 ; b1 <- 5\n",
    "a2 <- .3 ; b2 <- .3\n",
    "a3 <- 1.8 ; b3 <- 1.2\n",
    "a4 <- .5; b4 <- .5\n",
    "  \n",
    "av <- c(a0, a1, a2, a3, a4)\n",
    "bv <- c(b0, b1, b2, b3, b4)\n",
    "K <- length(av)\n",
    "\n",
    "# Data\n",
    "lamb <- 1 # 'true' lambda \n",
    "n <- 5\n",
    "y <- rpois(n, lamb) \n",
    "ys <- sum(y)"
   ]
  },
  {
   "cell_type": "markdown",
   "metadata": {},
   "source": [
    "### Optimisation of weights"
   ]
  },
  {
   "cell_type": "code",
   "execution_count": null,
   "metadata": {
    "collapsed": false
   },
   "outputs": [],
   "source": [
    "Prior.exps <- data.frame(Prior_0 = stat.gamma(c(a0, b0)),\n",
    "                          Prior_1 = stat.gamma(c(a1, b1)),\n",
    "                          Prior_2 = stat.gamma(c(a2, b2)), \n",
    "                          Prior_3 = stat.gamma(c(a3, b3)), \n",
    "                          Prior_4 = stat.gamma(c(a4, b4)))\n",
    "rownames(Prior.exps) <- c(\"Mean\", \"Lower\", \"Upper\")\n",
    "  \n",
    "###########\n",
    "ml.gamma <- function(y, a, b){\n",
    "   n <- length(y)\n",
    "   s <- sum(y)\n",
    "   num <- ((b + n)^ (a + s) )*gamma(a + s)\n",
    "   den <-  (b^a) * gamma(a)\n",
    "   p <- factorial(prod(y))\n",
    "   return( (num/den) * 1/p)\n",
    "}\n",
    " \n",
    "marglikes <- rep(NA, K)\n",
    "for (k in 1:K){ marglikes[k] <- ml.gamma(y = y, a = av[k], b = bv[k]) }\n",
    "marglikes\n",
    " \n",
    "# log-Pooled prior: Gamma(a'alpha, b'alpha)\n",
    "  \n",
    "# Preparing the table \n",
    "PaperGamma.tbl <- data.frame(mean.prior = rep(NA, 5), lower.prior = NA, \n",
    "                             upper.prior = NA, mean.post = NA, lower.post = NA, \n",
    "                             upper.post = NA)\n",
    "rownames(PaperGamma.tbl) <- c(\"Equal weights\", \"maxEnt\", \"min KL div.\", \"Hier. prior Diri\", \"Hier prior exp\")\n",
    "\n",
    "AlphasGamma.tbl <- data.frame(matrix(NA, nrow = 3, ncol = length(av)))\n",
    "rownames(AlphasGamma.tbl) <- c(\"maxEnt\", \"min KL div.\", \"Hier. prior Diri\", \"Hier prior exp\")\n",
    "colnames(AlphasGamma.tbl) <- paste(\"alpha\", 0:(length(av)-1), sep = \"\")\n",
    "    \n",
    "######################################################\n",
    "###### Equal weights alphas\n",
    "######################################################\n",
    "alphaEqual <- rep(1/K, K)\n",
    "\n",
    "ab.Equal.star <- pool.par(alphaEqual, av, bv)\n",
    "\n",
    "\n",
    "# Posterior\n",
    "(PaperGamma.tbl[1, 4:6] <- stat.gamma(ab.Equal.star + c(ys, n)))\n",
    "  \n",
    "######################################################\n",
    "##### Maximising Entropy\n",
    "# Maximise H(\\pi; alpha),  the entropy of the pooled prior\n",
    "######################################################\n",
    "  \n",
    "optentgamma <- function(alpha, ap, bp){\n",
    "    entropy.gamma(a = sum(alpha*ap), b = sum(alpha*bp))\n",
    "}\n",
    "  \n",
    "optentgamma.inv <- function(alpha.inv, ap, bp){\n",
    "    alpha <- alpha.01(alpha.inv)\n",
    "    -optentgamma(alpha, ap, bp)\n",
    "}\n",
    "  \n",
    "a.ent <- optim(c(0, 0, 0, 0), optentgamma.inv, ap = av, bp = bv) \n",
    "#            method = \"SANN\", control=list(maxit = 100000))\n",
    "  \n",
    "alphaMaxEnt.opt <- alpha.01(a.ent$par)\n",
    "\n",
    "ab.MaxEnt.star <- pool.par(alphaMaxEnt.opt, av, bv)\n",
    "  \n",
    "######################################################\n",
    "# Minimizing KL divergence between each density and the pooled prior\n",
    "# F = { f_0, f_1, ..., f_K}\n",
    "# d_i = KL(f_i || \\pi) ; L(alpha) = sum(d_i)\n",
    "# minimize the loss function L(F; alpha)\n",
    "######################################################\n",
    "  \n",
    "optklgamma <- function(alpha, ap, bp){\n",
    "    K <- length(alpha)\n",
    "    astar <- sum(alpha*ap)\n",
    "    bstar <- sum(alpha*bp)\n",
    "    ds <- rep(NA, K) # the distances from each f_i to \\pi\n",
    "    for (i in 1:K){ ds[i] <-  kl.gamma(a0 = ap[i], b0 = bp[i], a1 = astar , b1 = bstar)} \n",
    "    return(ds)\n",
    "  }\n",
    "  optklgamma.inv <- function(alpha.inv, ap, bp){\n",
    "  alpha <- alpha.01(alpha.inv)\n",
    "  sum(optklgamma(alpha, ap, bp))\n",
    "}\n",
    "  \n",
    "a.kl <- optim(c(0, 0, 0, 0), optklgamma.inv, ap = av, bp = bv)\n",
    "#            method = \"SANN\", control=list(maxit = 100000))\n",
    "\n",
    "alphaKL.opt <- alpha.01(a.kl$par)\n",
    "\n",
    "ab.KL.star <- pool.par(alphaKL.opt, av, bv)"
   ]
  },
  {
   "cell_type": "code",
   "execution_count": null,
   "metadata": {
    "collapsed": true
   },
   "outputs": [],
   "source": [
    "(AlphasGamma.tbl[1, ] <- alphaMaxEnt.opt)"
   ]
  },
  {
   "cell_type": "code",
   "execution_count": null,
   "metadata": {
    "collapsed": true
   },
   "outputs": [],
   "source": [
    "# Prior\n",
    "(PaperGamma.tbl[2, 1:3] <- stat.gamma(ab.MaxEnt.star))"
   ]
  },
  {
   "cell_type": "code",
   "execution_count": null,
   "metadata": {
    "collapsed": true
   },
   "outputs": [],
   "source": [
    "# Posterior\n",
    "(PaperGamma.tbl[2, 4:6] <- stat.gamma(ab.MaxEnt.star + c(ys, n)))"
   ]
  },
  {
   "cell_type": "code",
   "execution_count": null,
   "metadata": {
    "collapsed": true
   },
   "outputs": [],
   "source": [
    "(PaperGamma.tbl[1, 1:3] <- stat.gamma(ab.Equal.star))"
   ]
  },
  {
   "cell_type": "code",
   "execution_count": null,
   "metadata": {
    "collapsed": true
   },
   "outputs": [],
   "source": [
    "(AlphasGamma.tbl[2,] <- alphaKL.opt)"
   ]
  },
  {
   "cell_type": "code",
   "execution_count": null,
   "metadata": {
    "collapsed": true
   },
   "outputs": [],
   "source": [
    "# Prior\n",
    "(PaperGamma.tbl[3, 1:3] <- stat.gamma(ab.KL.star))"
   ]
  },
  {
   "cell_type": "code",
   "execution_count": null,
   "metadata": {
    "collapsed": true
   },
   "outputs": [],
   "source": [
    "# Posterior\n",
    "(PaperGamma.tbl[3, 4:6] <- stat.gamma(ab.KL.star + c(ys, n)))"
   ]
  },
  {
   "cell_type": "markdown",
   "metadata": {},
   "source": [
    "### Hierarchical priors"
   ]
  },
  {
   "cell_type": "code",
   "execution_count": 4,
   "metadata": {
    "collapsed": false
   },
   "outputs": [
    {
     "name": "stderr",
     "output_type": "stream",
     "text": [
      "Loading required package: LearnBayes\n",
      "Warning message:\n",
      "In library(package, lib.loc = lib.loc, character.only = TRUE, logical.return = TRUE, : there is no package called ‘LearnBayes’"
     ]
    },
    {
     "ename": "ERROR",
     "evalue": "Error in eval(expr, envir, enclos): could not find function \"rdirichlet\"\n",
     "output_type": "error",
     "traceback": [
      "Error in eval(expr, envir, enclos): could not find function \"rdirichlet\"\n"
     ]
    },
    {
     "ename": "ERROR",
     "evalue": "Error in apply(alpha.MC.dir, 2, mean): object 'alpha.MC.dir' not found\n",
     "output_type": "error",
     "traceback": [
      "Error in apply(alpha.MC.dir, 2, mean): object 'alpha.MC.dir' not found\n"
     ]
    },
    {
     "data": {
      "text/html": [
       "<ol class=list-inline>\n",
       "\t<li>0.199590326024875</li>\n",
       "\t<li>0.19961587719644</li>\n",
       "\t<li>0.200226350559752</li>\n",
       "\t<li>0.199474048387083</li>\n",
       "\t<li>0.20109339783185</li>\n",
       "</ol>\n"
      ],
      "text/latex": [
       "\\begin{enumerate*}\n",
       "\\item 0.199590326024875\n",
       "\\item 0.19961587719644\n",
       "\\item 0.200226350559752\n",
       "\\item 0.199474048387083\n",
       "\\item 0.20109339783185\n",
       "\\end{enumerate*}\n"
      ],
      "text/markdown": [
       "1. 0.199590326024875\n",
       "2. 0.19961587719644\n",
       "3. 0.200226350559752\n",
       "4. 0.199474048387083\n",
       "5. 0.20109339783185\n",
       "\n",
       "\n"
      ],
      "text/plain": [
       "[1] 0.1995903 0.1996159 0.2002264 0.1994740 0.2010934"
      ]
     },
     "execution_count": 4,
     "metadata": {},
     "output_type": "execute_result"
    },
    {
     "ename": "ERROR",
     "evalue": "Error in eval(expr, envir, enclos): object 'alpha.MC.dir' not found\n",
     "output_type": "error",
     "traceback": [
      "Error in eval(expr, envir, enclos): object 'alpha.MC.dir' not found\n"
     ]
    },
    {
     "ename": "ERROR",
     "evalue": "Error in apply(gamma.par.dir, 1, function(x) rgamma(1, x[1], x[2])): object 'gamma.par.dir' not found\n",
     "output_type": "error",
     "traceback": [
      "Error in apply(gamma.par.dir, 1, function(x) rgamma(1, x[1], x[2])): object 'gamma.par.dir' not found\n"
     ]
    },
    {
     "ename": "ERROR",
     "evalue": "Error in mean(lambda.par.dir): object 'lambda.par.dir' not found\n",
     "output_type": "error",
     "traceback": [
      "Error in mean(lambda.par.dir): object 'lambda.par.dir' not found\n"
     ]
    },
    {
     "ename": "ERROR",
     "evalue": "Error in quantile(lambda.par.dir, c(0.025, 0.975)): object 'lambda.par.dir' not found\n",
     "output_type": "error",
     "traceback": [
      "Error in quantile(lambda.par.dir, c(0.025, 0.975)): object 'lambda.par.dir' not found\n"
     ]
    },
    {
     "data": {
      "text/html": [
       "1.26275069567009"
      ],
      "text/latex": [
       "1.26275069567009"
      ],
      "text/markdown": [
       "1.26275069567009"
      ],
      "text/plain": [
       "[1] 1.262751"
      ]
     },
     "execution_count": 4,
     "metadata": {},
     "output_type": "execute_result"
    },
    {
     "data": {
      "text/html": [
       "<dl class=dl-horizontal>\n",
       "\t<dt>2.5%</dt>\n",
       "\t\t<dd>0.00157603097892756</dd>\n",
       "\t<dt>97.5%</dt>\n",
       "\t\t<dd>4.72952697365573</dd>\n",
       "</dl>\n"
      ],
      "text/latex": [
       "\\begin{description*}\n",
       "\\item[2.5%] 0.00157603097892756\n",
       "\\item[97.5%] 4.72952697365573\n",
       "\\end{description*}\n"
      ],
      "text/markdown": [
       "2.5%\n",
       ":   0.0015760309789275697.5%\n",
       ":   4.72952697365573\n",
       "\n"
      ],
      "text/plain": [
       "       2.5%       97.5% \n",
       "0.001576031 4.729526974 "
      ]
     },
     "execution_count": 4,
     "metadata": {},
     "output_type": "execute_result"
    },
    {
     "name": "stderr",
     "output_type": "stream",
     "text": [
      "Loading required package: ggplot2\n",
      "rstan (Version 2.9.0-3, packaged: 2016-02-11 15:54:41 UTC, GitRev: 05c3d0058b6a)\n",
      "For execution on a local, multicore CPU with excess RAM we recommend calling\n",
      "rstan_options(auto_write = TRUE)\n",
      "options(mc.cores = parallel::detectCores())\n",
      "Warning message:\n",
      ": namespace ‘diversitree’ is not available and has been replaced\n",
      "by .GlobalEnv when processing object ‘hierpost.exp’"
     ]
    },
    {
     "ename": "ERROR",
     "evalue": "Error in .local(object, ...): no slot of name \"mk_cppmodule\" for this object of class \"stanmodel\"\n",
     "output_type": "error",
     "traceback": [
      "Error in .local(object, ...): no slot of name \"mk_cppmodule\" for this object of class \"stanmodel\"\n"
     ]
    },
    {
     "ename": "ERROR",
     "evalue": "Error in .local(object, ...): no slot of name \"mk_cppmodule\" for this object of class \"stanmodel\"\n",
     "output_type": "error",
     "traceback": [
      "Error in .local(object, ...): no slot of name \"mk_cppmodule\" for this object of class \"stanmodel\"\n"
     ]
    },
    {
     "ename": "ERROR",
     "evalue": "Error in extract(hierpostsamp.dir): error in evaluating the argument 'object' in selecting a method for function 'extract': Error: object 'hierpostsamp.dir' not found\n\n",
     "output_type": "error",
     "traceback": [
      "Error in extract(hierpostsamp.dir): error in evaluating the argument 'object' in selecting a method for function 'extract': Error: object 'hierpostsamp.dir' not found\n\n"
     ]
    },
    {
     "ename": "ERROR",
     "evalue": "Error in extract(hierpostsamp.exp): error in evaluating the argument 'object' in selecting a method for function 'extract': Error: object 'hierpostsamp.exp' not found\n\n",
     "output_type": "error",
     "traceback": [
      "Error in extract(hierpostsamp.exp): error in evaluating the argument 'object' in selecting a method for function 'extract': Error: object 'hierpostsamp.exp' not found\n\n"
     ]
    },
    {
     "ename": "ERROR",
     "evalue": "Error in nrow(posteriors.exp$m): object 'posteriors.exp' not found\n",
     "output_type": "error",
     "traceback": [
      "Error in nrow(posteriors.exp$m): object 'posteriors.exp' not found\n"
     ]
    },
    {
     "ename": "ERROR",
     "evalue": "Error in nrow(posteriors.exp$m): object 'posteriors.exp' not found\n",
     "output_type": "error",
     "traceback": [
      "Error in nrow(posteriors.exp$m): object 'posteriors.exp' not found\n"
     ]
    },
    {
     "ename": "ERROR",
     "evalue": "Error in mean(posteriors.dir$lambda): object 'posteriors.dir' not found\n",
     "output_type": "error",
     "traceback": [
      "Error in mean(posteriors.dir$lambda): object 'posteriors.dir' not found\n"
     ]
    },
    {
     "ename": "ERROR",
     "evalue": "Error in quantile(posteriors.dir$lambda, c(0.025, 0.975)): object 'posteriors.dir' not found\n",
     "output_type": "error",
     "traceback": [
      "Error in quantile(posteriors.dir$lambda, c(0.025, 0.975)): object 'posteriors.dir' not found\n"
     ]
    },
    {
     "ename": "ERROR",
     "evalue": "Error in mean(posteriors.exp$lambda): object 'posteriors.exp' not found\n",
     "output_type": "error",
     "traceback": [
      "Error in mean(posteriors.exp$lambda): object 'posteriors.exp' not found\n"
     ]
    },
    {
     "ename": "ERROR",
     "evalue": "Error in quantile(posteriors.exp$lambda, c(0.025, 0.975)): object 'posteriors.exp' not found\n",
     "output_type": "error",
     "traceback": [
      "Error in quantile(posteriors.exp$lambda, c(0.025, 0.975)): object 'posteriors.exp' not found\n"
     ]
    },
    {
     "ename": "ERROR",
     "evalue": "Error in apply(posteriors.dir$alpha, 2, mean): object 'posteriors.dir' not found\n",
     "output_type": "error",
     "traceback": [
      "Error in apply(posteriors.dir$alpha, 2, mean): object 'posteriors.dir' not found\n"
     ]
    },
    {
     "ename": "ERROR",
     "evalue": "Error in apply(alphas.exp, 2, mean): object 'alphas.exp' not found\n",
     "output_type": "error",
     "traceback": [
      "Error in apply(alphas.exp, 2, mean): object 'alphas.exp' not found\n"
     ]
    },
    {
     "ename": "ERROR",
     "evalue": "Error in eval(expr, envir, enclos): object 'post.alpha.dir' not found\n",
     "output_type": "error",
     "traceback": [
      "Error in eval(expr, envir, enclos): object 'post.alpha.dir' not found\n"
     ]
    },
    {
     "ename": "ERROR",
     "evalue": "Error in eval(expr, envir, enclos): object 'post.alpha.exp' not found\n",
     "output_type": "error",
     "traceback": [
      "Error in eval(expr, envir, enclos): object 'post.alpha.exp' not found\n"
     ]
    },
    {
     "ename": "ERROR",
     "evalue": "Error in crossprod(a, alpha): object 'post.alpha.dir' not found\n",
     "output_type": "error",
     "traceback": [
      "Error in crossprod(a, alpha): object 'post.alpha.dir' not found\n"
     ]
    },
    {
     "ename": "ERROR",
     "evalue": "Error in crossprod(a, alpha): object 'post.alpha.exp' not found\n",
     "output_type": "error",
     "traceback": [
      "Error in crossprod(a, alpha): object 'post.alpha.exp' not found\n"
     ]
    }
   ],
   "source": [
    "######################################################\n",
    "###### Hierarchical prior\n",
    "# \\pi(theta|alpha)\n",
    "# alpha ~ Dirichlet (X)\n",
    "# X = {x_0, x_1, ..., x_K}\n",
    "######################################################\n",
    "require(\"LearnBayes\")\n",
    "M <- 100000\n",
    "# X <- c(1, 1, 1, 1)/2 # Jeffreys' prior\n",
    "X <- c(1, 1, 1, 1, 1)/5\n",
    "cv <- 15\n",
    "alpha.MC.dir <- rdirichlet(M, X)\n",
    "alpha.MC.exp <- rgelman(N = M, m = log(X), c = cv)\n",
    " \n",
    "apply(alpha.MC.dir, 2, mean)\n",
    "apply(alpha.MC.exp, 2, mean)\n",
    " \n",
    "gamma.par.dir <- alpha.MC.dir %*% cbind(av, bv)\n",
    "gamma.par.exp <- alpha.MC.exp %*% cbind(av, bv)\n",
    "  \n",
    "lambda.par.dir <- apply(gamma.par.dir, 1, function(x) rgamma(1, x[1], x[2]))\n",
    "lambda.par.exp <- apply(gamma.par.exp, 1, function(x) rgamma(1, x[1], x[2]))\n",
    "# Prior\n",
    "(PaperGamma.tbl[4, 1] <- mean(lambda.par.dir))\n",
    "(PaperGamma.tbl[4, 2:3] <- quantile(lambda.par.dir, c(.025, .975)) )\n",
    "(PaperGamma.tbl[5, 1] <- mean(lambda.par.exp))\n",
    "(PaperGamma.tbl[5, 2:3] <- quantile(lambda.par.exp, c(.025, .975)) ) \n",
    " \n",
    "  # Posterior \n",
    "library(rstan)\n",
    "gammadata.stan <-  list(Y = y, X = X, N = n, K = K, a = av, b = bv)\n",
    "gammadata.stan.exp <-  list(Y = y, means = log(X), sds = abs(cv*log(X)), N = n, K = K, a = av, b = bv)\n",
    "# hierpost <- stan(file = \"posterior_gamma_pooled.stan\",\n",
    "#                      data = gammadata.stan, iter = 1, thin = 1, chains = 1)\n",
    "# save(hierpost, file = \"compiled_gamma_post_sampler.RData\")\n",
    "# hierpost.exp <- stan(file = \"posterior_gamma_gelman_pooled.stan\",\n",
    "#                      data = gammadata.stan.exp, iter = 1, thin = 1, chains = 1)\n",
    "# save(hierpost.exp, file = \"compiled_gamma_post_gelman_sampler.RData\")\n",
    "load(\"compiled_gamma_post_sampler.RData\")\n",
    "load(\"compiled_gamma_post_gelman_sampler.RData\")\n",
    "hierpostsamp.dir <- stan(fit = hierpost,\n",
    "                   data = gammadata.stan, iter = 50000, thin = 1, chains = 1)\n",
    "hierpostsamp.exp <- stan(fit = hierpost.exp,\n",
    "                         data = gammadata.stan.exp, iter = 50000, thin = 1, chains = 1)\n",
    "posteriors.dir <- extract(hierpostsamp.dir)\n",
    "posteriors.exp <- extract(hierpostsamp.exp)\n",
    "alphas.exp <- matrix(NA, nrow = nrow(posteriors.exp$m), ncol = K )\n",
    "for (i in 1: nrow(posteriors.exp$m)){ alphas.exp[i, ] <- exp(posteriors.exp$m[i, ])/ sum(exp(posteriors.exp$m[i, ])) }\n",
    "\n",
    "PaperGamma.tbl[4, 4] <- mean(posteriors.dir$lambda)\n",
    "PaperGamma.tbl[4, 5:6] <- quantile(posteriors.dir$lambda, c(.025, .975))\n",
    "\n",
    "PaperGamma.tbl[5, 4] <- mean(posteriors.exp$lambda)\n",
    "PaperGamma.tbl[5, 5:6] <- quantile(posteriors.exp$lambda, c(.025, .975))\n",
    "\n",
    "post.alpha.dir <- apply(posteriors.dir$alpha, 2, mean)\n",
    "post.alpha.exp <- apply(alphas.exp, 2, mean)\n",
    "\n",
    "(AlphasGamma.tbl[3, ] <- post.alpha.dir)\n",
    "(AlphasGamma.tbl[4, ] <- post.alpha.exp)\n",
    "\n",
    "ab.Hier.star.dir <- pool.par(post.alpha.dir, av, bv)\n",
    "ab.Hier.star.exp <- pool.par(post.alpha.exp, av, bv)"
   ]
  },
  {
   "cell_type": "markdown",
   "metadata": {},
   "source": [
    "### Results"
   ]
  },
  {
   "cell_type": "code",
   "execution_count": null,
   "metadata": {
    "collapsed": true
   },
   "outputs": [],
   "source": [
    "######################################################\n",
    "############## Results\n",
    "######################################################\n",
    "# Table\n",
    "round(Prior.exps, 3)\n",
    "round(PaperGamma.tbl, 3)\n",
    "round(AlphasGamma.tbl, 3)\n",
    "###  Plotting\n",
    "svg(\"../plots/gamma_example.svg\")\n",
    "par(mfrow = c(2, 1))\n",
    "# Priors\n",
    "curve(fgamma(x, par = ab.Equal.star), 0, 2*lamb, ylab = \"Density\", main = \"Pooled Priors\",\n",
    "      xlab = expression(lambda), lwd = 2)\n",
    "curve(fgamma(x, par = ab.MaxEnt.star), 0, 2*lamb, col = 2, add = TRUE, lwd = 2)\n",
    "curve(fgamma(x, par = ab.KL.star), 0, 2*lamb, col = 3, add = TRUE, lwd = 2)\n",
    "lines(density(lambda.par.dir), col = 4, lwd = 2)\n",
    "lines(density(lambda.par.exp), col = 5, lwd = 2)\n",
    "legend(x = \"topright\", bty = \"n\", col = 1:5,\n",
    "       legend = c(\"Equal weights (1/K)\", \"MaxEnt\", \"MinKL\", \"Hierarchical Dirichlet\", \"Hierarchical ExpNormal\"),\n",
    "       lwd = 2, lty = 1, cex = .8)    \n",
    "  # Posteriors\n",
    "curve(fgamma(x, par = ab.Equal.star + c(ys, n)), 0, 2*lamb, ylab = \"Density\", main = \"Posteriors\",\n",
    "      xlab = expression(lambda), lwd = 2)\n",
    "curve(fgamma(x, par = ab.MaxEnt.star + c(ys, n)), 0, 2*lamb, col = 2, add = TRUE, lwd = 2)\n",
    "curve(fgamma(x, par = ab.KL.star + c(ys, n)), 0, 2*lamb, col = 3, add = TRUE, lwd = 2)\n",
    "lines(density(posteriors.dir$lambda), col = 4, lwd = 2)\n",
    "lines(density(posteriors.exp$lambda), col = 5, lwd = 2)\n",
    "legend(x = \"topleft\", bty = \"n\", col = 1:5,\n",
    "       legend = c(\"Equal weights (1/K)\", \"MaxEnt\", \"MinKL\", \"Hierarchical\", \"Hierarchical ExpNormal\"),\n",
    "       lwd = 2, lty = 1, cex = .8)\n",
    "abline( v = ys/n, lwd = 2, lty = 2)\n",
    "dev.off()\n",
    "   \n",
    "pars <- list(equal = ab.Equal.star,\n",
    "            entropy = ab.MaxEnt.star,\n",
    "            kl = ab.KL.star,\n",
    "            hierdir = ab.Hier.star.dir,\n",
    "            hierexp = ab.Hier.star.exp\n",
    "            )\n",
    " \n",
    "comb.marglikes <- lapply(pars, function(p) ml.gamma(y = y, a = p[1], b = p[2]))\n",
    "lapply(comb.marglikes, log)"
   ]
  }
 ],
 "metadata": {
  "kernelspec": {
   "display_name": "R",
   "language": "R",
   "name": "ir"
  },
  "language_info": {
   "codemirror_mode": "r",
   "file_extension": ".r",
   "mimetype": "text/x-r-source",
   "name": "R",
   "pygments_lexer": "r",
   "version": "3.2.3"
  }
 },
 "nbformat": 4,
 "nbformat_minor": 0
}
